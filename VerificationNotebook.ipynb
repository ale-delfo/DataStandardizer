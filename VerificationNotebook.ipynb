{
 "cells": [
  {
   "cell_type": "code",
   "execution_count": 1,
   "id": "04a7d346-c23c-4a20-bc0b-004a0bdbe435",
   "metadata": {},
   "outputs": [],
   "source": [
    "from pyspark.sql import SparkSession"
   ]
  },
  {
   "cell_type": "code",
   "execution_count": 2,
   "id": "cf6863b5-7ccc-468f-939f-b6919912bda3",
   "metadata": {},
   "outputs": [
    {
     "name": "stderr",
     "output_type": "stream",
     "text": [
      "22/04/26 15:16:37 WARN Utils: Your hostname, MacBook-Pro-di-Alessandro.local resolves to a loopback address: 127.0.0.1; using 192.168.1.187 instead (on interface en0)\n",
      "22/04/26 15:16:37 WARN Utils: Set SPARK_LOCAL_IP if you need to bind to another address\n",
      "Using Spark's default log4j profile: org/apache/spark/log4j-defaults.properties\n",
      "Setting default log level to \"WARN\".\n",
      "To adjust logging level use sc.setLogLevel(newLevel). For SparkR, use setLogLevel(newLevel).\n",
      "22/04/26 15:16:37 WARN NativeCodeLoader: Unable to load native-hadoop library for your platform... using builtin-java classes where applicable\n"
     ]
    }
   ],
   "source": [
    "spark = SparkSession.builder.getOrCreate()"
   ]
  },
  {
   "cell_type": "code",
   "execution_count": 3,
   "id": "f0ffbe46-c12e-4327-8afd-3635f02c9689",
   "metadata": {},
   "outputs": [
    {
     "name": "stderr",
     "output_type": "stream",
     "text": [
      "                                                                                \r"
     ]
    }
   ],
   "source": [
    "df = spark.read.option('header',True).csv('resources/titanic.csv')"
   ]
  },
  {
   "cell_type": "code",
   "execution_count": 4,
   "id": "718a82c8-db24-4d4f-8c30-29cae425b7fe",
   "metadata": {},
   "outputs": [
    {
     "name": "stdout",
     "output_type": "stream",
     "text": [
      "root\n",
      " |-- Survived: string (nullable = true)\n",
      " |-- Pclass: string (nullable = true)\n",
      " |-- Name: string (nullable = true)\n",
      " |-- Sex: string (nullable = true)\n",
      " |-- Age: string (nullable = true)\n",
      " |-- Siblings/Spouses Aboard: string (nullable = true)\n",
      " |-- Parents/Children Aboard: string (nullable = true)\n",
      " |-- Fare: string (nullable = true)\n",
      "\n"
     ]
    }
   ],
   "source": [
    "df.printSchema()"
   ]
  },
  {
   "cell_type": "code",
   "execution_count": 6,
   "id": "76a346cc-cfeb-4a17-9c5f-c62f8ff00ec0",
   "metadata": {},
   "outputs": [
    {
     "name": "stdout",
     "output_type": "stream",
     "text": [
      "+--------+------+--------------------+------+---+-----------------------+-----------------------+-------+\n",
      "|Survived|Pclass|                Name|   Sex|Age|Siblings/Spouses Aboard|Parents/Children Aboard|   Fare|\n",
      "+--------+------+--------------------+------+---+-----------------------+-----------------------+-------+\n",
      "|       0|     3|Mr. Owen Harris B...|  male| 22|                      1|                      0|   7.25|\n",
      "|       1|     1|Mrs. John Bradley...|female| 38|                      1|                      0|71.2833|\n",
      "|       1|     3|Miss. Laina Heikk...|female| 26|                      0|                      0|  7.925|\n",
      "|       1|     1|Mrs. Jacques Heat...|female| 35|                      1|                      0|   53.1|\n",
      "|       0|     3|Mr. William Henry...|  male| 35|                      0|                      0|   8.05|\n",
      "|       0|     3|     Mr. James Moran|  male| 27|                      0|                      0| 8.4583|\n",
      "|       0|     1|Mr. Timothy J McC...|  male| 54|                      0|                      0|51.8625|\n",
      "|       0|     3|Master. Gosta Leo...|  male|  2|                      3|                      1| 21.075|\n",
      "|       1|     3|Mrs. Oscar W (Eli...|female| 27|                      0|                      2|11.1333|\n",
      "|       1|     2|Mrs. Nicholas (Ad...|female| 14|                      1|                      0|30.0708|\n",
      "|       1|     3|Miss. Marguerite ...|female|  4|                      1|                      1|   16.7|\n",
      "|       1|     1|Miss. Elizabeth B...|female| 58|                      0|                      0|  26.55|\n",
      "|       0|     3|Mr. William Henry...|  male| 20|                      0|                      0|   8.05|\n",
      "|       0|     3|Mr. Anders Johan ...|  male| 39|                      1|                      5| 31.275|\n",
      "|       0|     3|Miss. Hulda Amand...|female| 14|                      0|                      0| 7.8542|\n",
      "|       1|     2|Mrs. (Mary D King...|female| 55|                      0|                      0|     16|\n",
      "|       0|     3| Master. Eugene Rice|  male|  2|                      4|                      1| 29.125|\n",
      "|       1|     2|Mr. Charles Eugen...|  male| 23|                      0|                      0|     13|\n",
      "|       0|     3|Mrs. Julius (Emel...|female| 31|                      1|                      0|     18|\n",
      "|       1|     3|Mrs. Fatima Masse...|female| 22|                      0|                      0|  7.225|\n",
      "+--------+------+--------------------+------+---+-----------------------+-----------------------+-------+\n",
      "only showing top 20 rows\n",
      "\n"
     ]
    }
   ],
   "source": [
    "df.show()"
   ]
  },
  {
   "cell_type": "code",
   "execution_count": 8,
   "id": "a7873eb1",
   "metadata": {},
   "outputs": [],
   "source": [
    "df_out = spark.read.json('output')"
   ]
  },
  {
   "cell_type": "code",
   "execution_count": 9,
   "id": "2d381890",
   "metadata": {},
   "outputs": [
    {
     "name": "stdout",
     "output_type": "stream",
     "text": [
      "root\n",
      " |-- Age: string (nullable = true)\n",
      " |-- Fare: long (nullable = true)\n",
      " |-- LiteralColumn: string (nullable = true)\n",
      " |-- Name: string (nullable = true)\n",
      " |-- Parents/Children_Aboard: string (nullable = true)\n",
      " |-- Pclass: string (nullable = true)\n",
      " |-- Sex: string (nullable = true)\n",
      " |-- Siblings/Spouses_Aboard: string (nullable = true)\n",
      " |-- Timezone: string (nullable = true)\n",
      " |-- Survived: integer (nullable = true)\n",
      "\n"
     ]
    }
   ],
   "source": [
    "df_out.printSchema()"
   ]
  },
  {
   "cell_type": "code",
   "execution_count": 10,
   "id": "01fd89d4",
   "metadata": {},
   "outputs": [
    {
     "name": "stdout",
     "output_type": "stream",
     "text": [
      "+---+----+--------------------+--------------------+-----------------------+------+------+-----------------------+-----------+--------+\n",
      "|Age|Fare|       LiteralColumn|                Name|Parents/Children_Aboard|Pclass|   Sex|Siblings/Spouses_Aboard|   Timezone|Survived|\n",
      "+---+----+--------------------+--------------------+-----------------------+------+------+-----------------------+-----------+--------+\n",
      "| 22|   7|2022-04-22T18:18:...|Mr. Owen Harris B...|                      0|     3|  male|                      1|Europe/Rome|       0|\n",
      "| 35|   8|2022-04-22T18:18:...|Mr. William Henry...|                      0|     3|  male|                      0|Europe/Rome|       0|\n",
      "| 27|   8|2022-04-22T18:18:...|     Mr. James Moran|                      0|     3|  male|                      0|Europe/Rome|       0|\n",
      "| 54|  51|2022-04-22T18:18:...|Mr. Timothy J McC...|                      0|     1|  male|                      0|Europe/Rome|       0|\n",
      "|  2|  21|2022-04-22T18:18:...|Master. Gosta Leo...|                      1|     3|  male|                      3|Europe/Rome|       0|\n",
      "| 20|   8|2022-04-22T18:18:...|Mr. William Henry...|                      0|     3|  male|                      0|Europe/Rome|       0|\n",
      "| 39|  31|2022-04-22T18:18:...|Mr. Anders Johan ...|                      5|     3|  male|                      1|Europe/Rome|       0|\n",
      "| 14|   7|2022-04-22T18:18:...|Miss. Hulda Amand...|                      0|     3|female|                      0|Europe/Rome|       0|\n",
      "|  2|  29|2022-04-22T18:18:...| Master. Eugene Rice|                      1|     3|  male|                      4|Europe/Rome|       0|\n",
      "| 31|  18|2022-04-22T18:18:...|Mrs. Julius (Emel...|                      0|     3|female|                      1|Europe/Rome|       0|\n",
      "| 35|  26|2022-04-22T18:18:...| Mr. Joseph J Fynney|                      0|     2|  male|                      0|Europe/Rome|       0|\n",
      "|  8|  21|2022-04-22T18:18:...|Miss. Torborg Dan...|                      1|     3|female|                      3|Europe/Rome|       0|\n",
      "| 26|   7|2022-04-22T18:18:...|Mr. Farred Chehab...|                      0|     3|  male|                      0|Europe/Rome|       0|\n",
      "| 19| 263|2022-04-22T18:18:...|Mr. Charles Alexa...|                      2|     1|  male|                      3|Europe/Rome|       0|\n",
      "| 23|   7|2022-04-22T18:18:...|  Mr. Lalio Todoroff|                      0|     3|  male|                      0|Europe/Rome|       0|\n",
      "| 40|  27|2022-04-22T18:18:...|Don. Manuel E Uru...|                      0|     1|  male|                      0|Europe/Rome|       0|\n",
      "| 66|  10|2022-04-22T18:18:...|Mr. Edward H Wheadon|                      0|     2|  male|                      0|Europe/Rome|       0|\n",
      "| 28|  82|2022-04-22T18:18:...|Mr. Edgar Joseph ...|                      0|     1|  male|                      1|Europe/Rome|       0|\n",
      "| 42|  52|2022-04-22T18:18:...|Mr. Alexander Osk...|                      0|     1|  male|                      1|Europe/Rome|       0|\n",
      "| 21|   8|2022-04-22T18:18:...|Mr. Ernest Charle...|                      0|     3|  male|                      0|Europe/Rome|       0|\n",
      "+---+----+--------------------+--------------------+-----------------------+------+------+-----------------------+-----------+--------+\n",
      "only showing top 20 rows\n",
      "\n"
     ]
    }
   ],
   "source": [
    "df_out.show()"
   ]
  },
  {
   "cell_type": "code",
   "execution_count": null,
   "id": "d594fb31",
   "metadata": {},
   "outputs": [],
   "source": []
  }
 ],
 "metadata": {
  "kernelspec": {
   "display_name": "Python 3 (ipykernel)",
   "language": "python",
   "name": "python3"
  },
  "language_info": {
   "codemirror_mode": {
    "name": "ipython",
    "version": 3
   },
   "file_extension": ".py",
   "mimetype": "text/x-python",
   "name": "python",
   "nbconvert_exporter": "python",
   "pygments_lexer": "ipython3",
   "version": "3.9.7"
  }
 },
 "nbformat": 4,
 "nbformat_minor": 5
}
